{
 "cells": [
  {
   "cell_type": "code",
   "execution_count": 8,
   "metadata": {},
   "outputs": [],
   "source": [
    "#Import \n",
    "import pandas as pd\n",
    "import sqlalchemy\n",
    "from sqlalchemy import create_engine, func\n",
    "from sqlalchemy.ext.automap import automap_base\n",
    "from sqlalchemy.orm import Session\n",
    "import datetime as dt\n",
    "import matplotlib\n",
    "from matplotlib import style\n",
    "style.use('fivethirtyeight')\n",
    "import matplotlib.pyplot as plt"
   ]
  },
  {
   "cell_type": "code",
   "execution_count": 9,
   "metadata": {},
   "outputs": [],
   "source": [
    "# Create the connection engine to the sqlite database\n",
    "engine = create_engine(\"sqlite:///data/hawaii.sqlite\")"
   ]
  },
  {
   "cell_type": "code",
   "execution_count": 10,
   "metadata": {},
   "outputs": [],
   "source": [
    "# Establish Base for the classes that will be constructed \n",
    "Base = automap_base()"
   ]
  },
  {
   "cell_type": "code",
   "execution_count": null,
   "metadata": {},
   "outputs": [],
   "source": [
    "# Use the Base class to reflect the database tables\n",
    "Base.prepare(engine, reflect=True)"
   ]
  },
  {
   "cell_type": "code",
   "execution_count": null,
   "metadata": {},
   "outputs": [],
   "source": [
    "# Assign the station class to a variable called `Station`\n",
    "Station = Base.classes.stations"
   ]
  },
  {
   "cell_type": "code",
   "execution_count": null,
   "metadata": {},
   "outputs": [],
   "source": [
    "# Assign the measurements class to a variable called `Measurement`\n",
    "Measurement = Base.classes.measurements"
   ]
  },
  {
   "cell_type": "code",
   "execution_count": 7,
   "metadata": {},
   "outputs": [],
   "source": [
    "# To query the server we use a Session object\n",
    "session = Session(bind=engine)"
   ]
  },
  {
   "cell_type": "code",
   "execution_count": null,
   "metadata": {},
   "outputs": [],
   "source": [
    "## Percipitation Analysis :"
   ]
  },
  {
   "cell_type": "code",
   "execution_count": null,
   "metadata": {},
   "outputs": [],
   "source": [
    "# Here we Calculate latest date in measurements \n",
    "latest_date = session.query(Measurement.date).order_by(Measurement.date.desc()).first()[0]\n",
    "\n",
    "# Convert latest date to datetime object\n",
    "latest_date_dt = dt.datetime.strptime(latest_date, '%Y-%m-%d')\n",
    "\n",
    "# Calculate date 12 months ago as datetime object\n",
    "year_ago_date_dt = latest_date_dt - dt.timedelta(days=365)\n",
    "\n",
    "# Convert date 12 months ago to string\n",
    "year_ago_date = year_ago_date_dt.strftime('%Y-%m-%d')\n",
    "\n",
    "# Print out results\n",
    "print(f\"Most recent date: {latest_date}\" + \"\\n\" + f\"Date 12 months ago: {year_ago_date}\")heH"
   ]
  },
  {
   "cell_type": "code",
   "execution_count": null,
   "metadata": {},
   "outputs": [],
   "source": [
    "# Here we Retrieve the last 12 months of precipitation data.\n",
    "last_12_months_precip = session.query(Measurement.date, func.sum(Measurement.prcp))\\\n",
    "                    .filter(Measurement.date >= year_ago_date)\\\n",
    "                    .group_by(Measurement.date)\\\n",
    "                    .order_by(Measurement.date).all()\n",
    "              \n",
    "#Load the query results into a DataFrame and set our index to the date column. \n",
    "last_12_months_precip_df = pd.DataFrame(last_12_months_precip, columns=['date', 'prcp'])\n",
    "last_12_months_precip_df = last_12_months_precip_df.set_index('date')\n",
    "\n",
    "#Plot the results using the DataFrame plot method.\n",
    "last_12_months_precip_df.plot()\n",
    "\n",
    "# Rotate the xticks for the dates\n",
    "plt.xticks(rotation='45')\n",
    "plt.show()"
   ]
  },
  {
   "cell_type": "code",
   "execution_count": null,
   "metadata": {},
   "outputs": [],
   "source": [
    "last_12_months_precip_df.describe()"
   ]
  },
  {
   "cell_type": "code",
   "execution_count": null,
   "metadata": {},
   "outputs": [],
   "source": [
    "# Station Analysis "
   ]
  },
  {
   "cell_type": "code",
   "execution_count": null,
   "metadata": {},
   "outputs": [],
   "source": [
    "# Calculate the total number of stations\n",
    "station_count = session.query(Station.station).count()\n",
    "print(f\"There are {station_count} stations.\\n\")\n",
    "\n",
    "# Query to create a list of stations by the number of observations\n",
    "stations_by_tobs = session.query(Measurement.station, func.count(Measurement.tobs))\\\n",
    "                        .group_by(Measurement.station)\\\n",
    "                        .order_by(func.count(Measurement.tobs).desc()).all()\n",
    "\n",
    "# Print list of stations by the number of observations\n",
    "print(\"List of stations and number of observations:\\n\", stations_by_tobs,\"\\n\")\n",
    "        \n",
    "# Get name of most active station\n",
    "most_active_station_name = stations_by_tobs[0][0]\n",
    "\n",
    "# Get tobs of most active station\n",
    "most_active_station_tobs = stations_by_tobs[0][1]\n",
    "\n",
    "# Print most active station and \n",
    "print(f\"The most active station is {most_active_station_name} with {most_active_station_tobs} observations.\" + \"\\n\")"
   ]
  },
  {
   "cell_type": "code",
   "execution_count": null,
   "metadata": {},
   "outputs": [],
   "source": [
    "# Retrieve the last 12 months of temperature observation data (tobs).\n",
    "# Filtered by the station with the highest number of observations.\n",
    "tobs_by_max_station = session.query(Measurement.tobs)\\\n",
    "                    .filter(Measurement.date >= year_ago_date)\\\n",
    "                    .filter(Measurement.station == most_active_station_name).all()"
   ]
  },
  {
   "cell_type": "code",
   "execution_count": null,
   "metadata": {},
   "outputs": [],
   "source": [
    "# Plot the last twelve months of temperature observations by the station with the highest number of obersvations\n",
    "# Groups of 12 \n",
    "tobs_by_max_station_df = pd.DataFrame(tobs_by_max_station, columns=['tobs'])\n",
    "tobs_by_max_station_df.plot.hist(bins=12)\n",
    "plt.tight_layout()\n",
    "plt.show()"
   ]
  },
  {
   "cell_type": "code",
   "execution_count": null,
   "metadata": {},
   "outputs": [],
   "source": [
    "#Temperature Analysis \n"
   ]
  },
  {
   "cell_type": "code",
   "execution_count": null,
   "metadata": {},
   "outputs": [],
   "source": [
    "def calc_temps(start_date, end_date):\n",
    "# Dates must be in YYYY-MM-DD format\n",
    "# Returns the minimum, average, and maximum temperatures for the given date range\n",
    "\n",
    "# Query database for temperatures between start and end date\n",
    "    tobs = session.query(Measurement.tobs)\\\n",
    "            .filter(Measurement.date >= start_date)\\\n",
    "            .filter(Measurement.date <= end_date).all()\n",
    "    \n",
    "# Convert to DataFrame\n",
    "    tobs_df = pd.DataFrame(tobs, columns=['tobs'])\n",
    "    \n",
    "# Return: minimum, average and maximum temperatures\n",
    "    return (tobs_df['tobs'].min(), round(tobs_df['tobs'].mean(),1), tobs_df['tobs'].max())\n",
    "    \n",
    "# Call calc_temps function\n",
    "tmin, tavg, tmax = calc_temps(\"2016-01-01\", \"2017-08-31\")\n",
    "\n",
    "# Print \n",
    "print(f\"Min: {tmin} \\nAvg: {tavg} \\nMax: {tmax}\")"
   ]
  },
  {
   "cell_type": "code",
   "execution_count": null,
   "metadata": {},
   "outputs": [],
   "source": [
    "# Our Plot chart\n",
    "fig, ax = plt.subplots()\n",
    "ax.bar(0, tavg, color='r', yerr=tmax-tmin)\n",
    "ax.get_xaxis().set_visible(False)\n",
    "plt.ylabel('Temp (F)')\n",
    "plt.title('Trip Average Temperature')\n",
    "plt.tight_layout()\n",
    "plt.show()"
   ]
  },
  {
   "cell_type": "code",
   "execution_count": null,
   "metadata": {},
   "outputs": [],
   "source": [
    "#Optional Analysis "
   ]
  },
  {
   "cell_type": "code",
   "execution_count": null,
   "metadata": {},
   "outputs": [],
   "source": [
    "#Calcualte the rainfall per weather station using the previous year's matching dates.\n",
    "\n",
    "# Query database for temperatures between start and end date\n",
    "prcp_by_station = session.query(Measurement.station, func.sum(Measurement.prcp))\\\n",
    "            .filter(Measurement.date >= year_ago_date)\\\n",
    "            .group_by(Measurement.station).all()\n",
    "    \n",
    "# Convert results to dataframe\n",
    "prcp_by_station_df = pd.DataFrame(prcp_by_station, columns=['station', 'prcp'])\n",
    "\n",
    "# Show Final Results \n",
    "prcp_by_station_df"
   ]
  }
 ],
 "metadata": {
  "kernelspec": {
   "display_name": "Python 3",
   "language": "python",
   "name": "python3"
  },
  "language_info": {
   "codemirror_mode": {
    "name": "ipython",
    "version": 3
   },
   "file_extension": ".py",
   "mimetype": "text/x-python",
   "name": "python",
   "nbconvert_exporter": "python",
   "pygments_lexer": "ipython3",
   "version": "3.6.4"
  }
 },
 "nbformat": 4,
 "nbformat_minor": 2
}
